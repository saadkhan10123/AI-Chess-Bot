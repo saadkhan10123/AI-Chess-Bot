{
 "cells": [
  {
   "cell_type": "code",
   "execution_count": 1,
   "metadata": {},
   "outputs": [],
   "source": [
    "import pandas as pd\n",
    "import torch\n",
    "import torch.optim as optim\n",
    "import os\n",
    "\n",
    "from tqdm import tqdm\n",
    "from torch.utils.data import Dataset, DataLoader, random_split\n",
    "from torch import nn"
   ]
  },
  {
   "cell_type": "code",
   "execution_count": 2,
   "metadata": {},
   "outputs": [],
   "source": [
    "def FEN_to_bit_vector(fen):\n",
    "    # Converting the Peices to a bit vector\n",
    "    piece_layer = {\n",
    "        'P': 0,\n",
    "        'N': 1,\n",
    "        'B': 2,\n",
    "        'R': 3,\n",
    "        'Q': 4,\n",
    "        'K': 5,\n",
    "        'p': 6,\n",
    "        'n': 7,\n",
    "        'b': 8,\n",
    "        'r': 9,\n",
    "        'q': 10,\n",
    "        'k': 11\n",
    "    }\n",
    "    \n",
    "    fen = fen.split(' ')\n",
    "    piece_vector = torch.zeros(12, 8, 8)\n",
    "    pieces = fen[0]\n",
    "    rows = pieces.split('/')\n",
    "    for i, row in enumerate(rows):\n",
    "        j = 0\n",
    "        for c in row:\n",
    "            if c.isdigit():\n",
    "                j += int(c)\n",
    "            else:\n",
    "                piece_vector[piece_layer[c], i, j] = 1\n",
    "                j += 1\n",
    "                \n",
    "    # Converting the castling rights to a bit vector\n",
    "    castling_vector = torch.zeros(4)\n",
    "    castling = fen[2]\n",
    "    for c in castling:\n",
    "        if c == 'K':\n",
    "            castling_vector[0] = 1\n",
    "        if c == 'Q':\n",
    "            castling_vector[1] = 1\n",
    "        if c == 'k':\n",
    "            castling_vector[2] = 1\n",
    "        if c == 'q':\n",
    "            castling_vector[3] = 1\n",
    "            \n",
    "    # Converting the en passant square to a bit vector\n",
    "    en_passant_vector = torch.zeros(8)\n",
    "    en_passant = fen[3]\n",
    "    if en_passant != '-':\n",
    "        en_passant = ord(en_passant[0]) - 97\n",
    "        en_passant_vector[en_passant] = 1\n",
    "        \n",
    "    # Getting the current player\n",
    "    curr_player_vector = torch.zeros(1)\n",
    "    curr_player = fen[1]\n",
    "    \n",
    "    if curr_player == 'w':\n",
    "        curr_player_vector[0] = 1\n",
    "        \n",
    "    # Append all the bit vectors\n",
    "    bit_vector = torch.cat((piece_vector.view(-1), castling_vector, en_passant_vector, curr_player_vector))\n",
    "    \n",
    "    return bit_vector\n",
    "    \n",
    "\n",
    "def eval_to_int(eval):\n",
    "    try:\n",
    "        res = int(eval)\n",
    "    except ValueError:\n",
    "        res = 10000 if eval[1] == '+' else -10000\n",
    "        \n",
    "    return torch.tensor(res / 100, dtype=torch.float32)\n",
    "\n",
    "class ChessDataset(Dataset):\n",
    "    def __init__(self, csv):\n",
    "        self.csv = csv\n",
    "        \n",
    "    def __len__(self):\n",
    "        return len(self.csv)\n",
    "    \n",
    "    def __getitem__(self, idx):\n",
    "        x = FEN_to_bit_vector(self.csv.iloc[idx]['FEN'])\n",
    "        y = eval_to_int(self.csv.iloc[idx]['Evaluation'])\n",
    "        return x, y"
   ]
  },
  {
   "cell_type": "code",
   "execution_count": 3,
   "metadata": {},
   "outputs": [],
   "source": [
    "class ChessModel(nn.Module):\n",
    "    def __init__(self):\n",
    "        super(ChessModel, self).__init__()\n",
    "        self.linear1 = nn.Linear(12 * 8 * 8 + 4 + 8 + 1, 512)\n",
    "        self.linear2 = nn.Linear(512, 256)\n",
    "        self.linear3 = nn.Linear(256, 128)\n",
    "        self.linear4 = nn.Linear(128, 64)\n",
    "        self.linear5 = nn.Linear(64, 32)\n",
    "        self.linear6 = nn.Linear(32, 1)\n",
    "        \n",
    "    def forward(self, x):\n",
    "        x = torch.relu(self.linear1(x))\n",
    "        x = torch.relu(self.linear2(x))\n",
    "        x = torch.relu(self.linear3(x))\n",
    "        x = torch.relu(self.linear4(x))\n",
    "        x = torch.relu(self.linear5(x))\n",
    "        x = self.linear6(x)\n",
    "        return x"
   ]
  },
  {
   "cell_type": "code",
   "execution_count": 4,
   "metadata": {},
   "outputs": [
    {
     "name": "stdout",
     "output_type": "stream",
     "text": [
      "+667\n"
     ]
    }
   ],
   "source": [
    "# Load the dataset\n",
    "df = pd.read_csv(\"data/tactic_evals.csv\")\n",
    "\n",
    "row = df.iloc[10]\n",
    "\n",
    "print(row['Evaluation'])"
   ]
  },
  {
   "cell_type": "code",
   "execution_count": 5,
   "metadata": {},
   "outputs": [
    {
     "name": "stderr",
     "output_type": "stream",
     "text": [
      "d:\\NUST\\Semester 3\\Artificial Intelligence\\End Semester Project\\.conda\\Lib\\site-packages\\tqdm\\auto.py:21: TqdmWarning: IProgress not found. Please update jupyter and ipywidgets. See https://ipywidgets.readthedocs.io/en/stable/user_install.html\n",
      "  from .autonotebook import tqdm as notebook_tqdm\n"
     ]
    },
    {
     "name": "stdout",
     "output_type": "stream",
     "text": [
      "Error importing huggingface_hub.hf_api: No module named 'yaml'\n"
     ]
    }
   ],
   "source": [
    "device = torch.device('cuda' if torch.cuda.is_available() else 'cpu')\n",
    "\n",
    "dataset = ChessDataset(df)\n",
    "\n",
    "train_size = int(0.95 * len(dataset))\n",
    "val_size = len(dataset) - train_size\n",
    "\n",
    "train_dataset, val_dataset = random_split(dataset, [train_size, val_size])\n",
    "\n",
    "train_loader = DataLoader(train_dataset, batch_size=16, shuffle=True)\n",
    "\n",
    "val_loader = DataLoader(val_dataset, batch_size=16, shuffle=False)\n",
    "    \n",
    "model = ChessModel().to(device)\n",
    "model = nn.DataParallel(model)\n",
    "\n",
    "criterion = nn.MSELoss().to(device)\n",
    "optimizer = optim.Adam(model.parameters(), lr=0.001)\n",
    "        "
   ]
  },
  {
   "cell_type": "code",
   "execution_count": 42,
   "metadata": {},
   "outputs": [
    {
     "data": {
      "text/plain": [
       "torch.Size([781])"
      ]
     },
     "execution_count": 42,
     "metadata": {},
     "output_type": "execute_result"
    }
   ],
   "source": [
    "dataset[10][0].shape"
   ]
  },
  {
   "cell_type": "code",
   "execution_count": null,
   "metadata": {},
   "outputs": [
    {
     "name": "stderr",
     "output_type": "stream",
     "text": [
      " 11%|█         | 17380/156051 [07:29<2:28:43, 15.54it/s] "
     ]
    }
   ],
   "source": [
    "losses = []\n",
    "\n",
    "# Train the model\n",
    "for epoch in range(5):\n",
    "    model.train()\n",
    "    running_loss = 0.0\n",
    "    for i, data in enumerate(tqdm(train_loader), 0):\n",
    "        inputs, labels = data\n",
    "        optimizer.zero_grad()\n",
    "        outputs = model(inputs)\n",
    "        loss = criterion(outputs, labels.view(-1, 1))\n",
    "        loss.backward()\n",
    "        optimizer.step()\n",
    "        running_loss += loss.item()\n",
    "    print(f\"Epoch {epoch + 1}, loss: {running_loss / len(train_loader)}\")\n",
    "    losses.append(running_loss / len(train_loader))"
   ]
  },
  {
   "cell_type": "code",
   "execution_count": null,
   "metadata": {},
   "outputs": [
    {
     "name": "stderr",
     "output_type": "stream",
     "text": [
      "100%|██████████| 8214/8214 [01:37<00:00, 84.51it/s] "
     ]
    },
    {
     "name": "stdout",
     "output_type": "stream",
     "text": [
      "Validation loss: 445.23081884484003\n"
     ]
    },
    {
     "name": "stderr",
     "output_type": "stream",
     "text": [
      "\n"
     ]
    }
   ],
   "source": [
    "model.eval()\n",
    "running_loss = 0.0\n",
    "with torch.no_grad():\n",
    "    for i, data in enumerate(tqdm(val_loader), 0):\n",
    "        inputs, labels = data\n",
    "        outputs = model(inputs)\n",
    "        loss = criterion(outputs, labels.view(-1, 1))\n",
    "        running_loss += loss.item()\n",
    "print(f\"Validation loss: {running_loss / len(val_loader)}\")\n",
    "\n",
    "torch.save(model.state_dict(), \"model.pth\")\n",
    "    "
   ]
  },
  {
   "cell_type": "code",
   "execution_count": null,
   "metadata": {},
   "outputs": [],
   "source": []
  }
 ],
 "metadata": {
  "kernelspec": {
   "display_name": "Python 3",
   "language": "python",
   "name": "python3"
  },
  "language_info": {
   "codemirror_mode": {
    "name": "ipython",
    "version": 3
   },
   "file_extension": ".py",
   "mimetype": "text/x-python",
   "name": "python",
   "nbconvert_exporter": "python",
   "pygments_lexer": "ipython3",
   "version": "3.12.7"
  }
 },
 "nbformat": 4,
 "nbformat_minor": 2
}
