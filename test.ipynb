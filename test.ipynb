{
 "cells": [
  {
   "cell_type": "code",
   "execution_count": 7,
   "metadata": {},
   "outputs": [
    {
     "name": "stdout",
     "output_type": "stream",
     "text": [
      "-\n",
      "tensor([0., 0., 0., 0.])\n"
     ]
    }
   ],
   "source": [
    "import pandas as pd\n",
    "import torch\n",
    "\n",
    "df = pd.read_csv(\"data/tactic_evals.csv\", nrows=10)\n",
    "\n",
    "row = df.iloc[5]\n",
    "fen = row['FEN']\n",
    "\n",
    "castling = fen.split(' ')[2]\n",
    "print(castling)\n",
    "castling_vector = torch.zeros(4)\n",
    "\n",
    "def f(c):\n",
    "    diff = ord(c) - ord('K')\n",
    "    return diff // (4 + (7 * int(diff > 8)))\n",
    "\n",
    "for c in castling:\n",
    "    if c == '-':\n",
    "        break\n",
    "    print(f(c))\n",
    "    castling_vector[f(c)] = 1\n",
    "    \n",
    "print(castling_vector)\n"
   ]
  }
 ],
 "metadata": {
  "kernelspec": {
   "display_name": "Python 3",
   "language": "python",
   "name": "python3"
  },
  "language_info": {
   "codemirror_mode": {
    "name": "ipython",
    "version": 3
   },
   "file_extension": ".py",
   "mimetype": "text/x-python",
   "name": "python",
   "nbconvert_exporter": "python",
   "pygments_lexer": "ipython3",
   "version": "3.12.7"
  }
 },
 "nbformat": 4,
 "nbformat_minor": 2
}
